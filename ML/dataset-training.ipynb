{
 "cells": [
  {
   "cell_type": "code",
   "execution_count": 1,
   "id": "df6a27fa",
   "metadata": {
    "execution": {
     "iopub.execute_input": "2022-10-31T15:41:08.157879Z",
     "iopub.status.busy": "2022-10-31T15:41:08.157375Z",
     "iopub.status.idle": "2022-10-31T15:41:25.233749Z",
     "shell.execute_reply": "2022-10-31T15:41:25.232395Z"
    },
    "papermill": {
     "duration": 17.085936,
     "end_time": "2022-10-31T15:41:25.236045",
     "exception": false,
     "start_time": "2022-10-31T15:41:08.150109",
     "status": "completed"
    },
    "tags": []
   },
   "outputs": [
    {
     "name": "stdout",
     "output_type": "stream",
     "text": [
      "Collecting livelossplot\r\n",
      "  Downloading livelossplot-0.5.5-py3-none-any.whl (22 kB)\r\n",
      "Requirement already satisfied: matplotlib in /opt/conda/lib/python3.7/site-packages (from livelossplot) (3.5.3)\r\n",
      "Requirement already satisfied: numpy<1.22 in /opt/conda/lib/python3.7/site-packages (from livelossplot) (1.21.6)\r\n",
      "Requirement already satisfied: bokeh in /opt/conda/lib/python3.7/site-packages (from livelossplot) (2.4.3)\r\n",
      "Requirement already satisfied: ipython==7.* in /opt/conda/lib/python3.7/site-packages (from livelossplot) (7.33.0)\r\n",
      "Requirement already satisfied: traitlets>=4.2 in /opt/conda/lib/python3.7/site-packages (from ipython==7.*->livelossplot) (5.3.0)\r\n",
      "Requirement already satisfied: prompt-toolkit!=3.0.0,!=3.0.1,<3.1.0,>=2.0.0 in /opt/conda/lib/python3.7/site-packages (from ipython==7.*->livelossplot) (3.0.30)\r\n",
      "Requirement already satisfied: pygments in /opt/conda/lib/python3.7/site-packages (from ipython==7.*->livelossplot) (2.12.0)\r\n",
      "Requirement already satisfied: backcall in /opt/conda/lib/python3.7/site-packages (from ipython==7.*->livelossplot) (0.2.0)\r\n",
      "Requirement already satisfied: pickleshare in /opt/conda/lib/python3.7/site-packages (from ipython==7.*->livelossplot) (0.7.5)\r\n",
      "Requirement already satisfied: matplotlib-inline in /opt/conda/lib/python3.7/site-packages (from ipython==7.*->livelossplot) (0.1.3)\r\n",
      "Requirement already satisfied: setuptools>=18.5 in /opt/conda/lib/python3.7/site-packages (from ipython==7.*->livelossplot) (59.8.0)\r\n",
      "Requirement already satisfied: decorator in /opt/conda/lib/python3.7/site-packages (from ipython==7.*->livelossplot) (5.1.1)\r\n",
      "Requirement already satisfied: jedi>=0.16 in /opt/conda/lib/python3.7/site-packages (from ipython==7.*->livelossplot) (0.18.1)\r\n",
      "Requirement already satisfied: pexpect>4.3 in /opt/conda/lib/python3.7/site-packages (from ipython==7.*->livelossplot) (4.8.0)\r\n",
      "Requirement already satisfied: typing-extensions>=3.10.0 in /opt/conda/lib/python3.7/site-packages (from bokeh->livelossplot) (4.3.0)\r\n",
      "Requirement already satisfied: pillow>=7.1.0 in /opt/conda/lib/python3.7/site-packages (from bokeh->livelossplot) (9.1.1)\r\n",
      "Requirement already satisfied: tornado>=5.1 in /opt/conda/lib/python3.7/site-packages (from bokeh->livelossplot) (6.1)\r\n",
      "Requirement already satisfied: Jinja2>=2.9 in /opt/conda/lib/python3.7/site-packages (from bokeh->livelossplot) (3.1.2)\r\n",
      "Requirement already satisfied: packaging>=16.8 in /opt/conda/lib/python3.7/site-packages (from bokeh->livelossplot) (21.3)\r\n",
      "Requirement already satisfied: PyYAML>=3.10 in /opt/conda/lib/python3.7/site-packages (from bokeh->livelossplot) (6.0)\r\n",
      "Requirement already satisfied: cycler>=0.10 in /opt/conda/lib/python3.7/site-packages (from matplotlib->livelossplot) (0.11.0)\r\n",
      "Requirement already satisfied: fonttools>=4.22.0 in /opt/conda/lib/python3.7/site-packages (from matplotlib->livelossplot) (4.33.3)\r\n",
      "Requirement already satisfied: pyparsing>=2.2.1 in /opt/conda/lib/python3.7/site-packages (from matplotlib->livelossplot) (3.0.9)\r\n",
      "Requirement already satisfied: python-dateutil>=2.7 in /opt/conda/lib/python3.7/site-packages (from matplotlib->livelossplot) (2.8.2)\r\n",
      "Requirement already satisfied: kiwisolver>=1.0.1 in /opt/conda/lib/python3.7/site-packages (from matplotlib->livelossplot) (1.4.3)\r\n",
      "Requirement already satisfied: parso<0.9.0,>=0.8.0 in /opt/conda/lib/python3.7/site-packages (from jedi>=0.16->ipython==7.*->livelossplot) (0.8.3)\r\n",
      "Requirement already satisfied: MarkupSafe>=2.0 in /opt/conda/lib/python3.7/site-packages (from Jinja2>=2.9->bokeh->livelossplot) (2.1.1)\r\n",
      "Requirement already satisfied: ptyprocess>=0.5 in /opt/conda/lib/python3.7/site-packages (from pexpect>4.3->ipython==7.*->livelossplot) (0.7.0)\r\n",
      "Requirement already satisfied: wcwidth in /opt/conda/lib/python3.7/site-packages (from prompt-toolkit!=3.0.0,!=3.0.1,<3.1.0,>=2.0.0->ipython==7.*->livelossplot) (0.2.5)\r\n",
      "Requirement already satisfied: six>=1.5 in /opt/conda/lib/python3.7/site-packages (from python-dateutil>=2.7->matplotlib->livelossplot) (1.15.0)\r\n",
      "Installing collected packages: livelossplot\r\n",
      "Successfully installed livelossplot-0.5.5\r\n",
      "\u001b[33mWARNING: Running pip as the 'root' user can result in broken permissions and conflicting behaviour with the system package manager. It is recommended to use a virtual environment instead: https://pip.pypa.io/warnings/venv\u001b[0m\u001b[33m\r\n",
      "\u001b[0mTensorflow version: 2.6.4\n"
     ]
    }
   ],
   "source": [
    "!pip install livelossplot\n",
    "import numpy as np\n",
    "import seaborn as sns\n",
    "import matplotlib.pyplot as plt\n",
    "\n",
    "import os\n",
    "%matplotlib inline\n",
    "\n",
    "from tensorflow.keras.preprocessing.image import ImageDataGenerator\n",
    "from tensorflow.keras.layers import Dense, Input, Dropout,Flatten, Conv2D\n",
    "from tensorflow.keras.layers import BatchNormalization, Activation, MaxPooling2D\n",
    "from tensorflow.keras.models import Model, Sequential\n",
    "from tensorflow.keras.optimizers import Adam\n",
    "from tensorflow.keras.callbacks import ModelCheckpoint, ReduceLROnPlateau\n",
    "from tensorflow.keras.utils import plot_model\n",
    "\n",
    "from IPython.display import SVG, Image\n",
    "from livelossplot import PlotLossesKerasTF\n",
    "import tensorflow as tf\n",
    "from tensorflow.keras.models import model_from_json\n",
    "print(\"Tensorflow version:\", tf.__version__)\n",
    "\n",
    "###########################################################\n",
    "\n"
   ]
  },
  {
   "cell_type": "code",
   "execution_count": 2,
   "id": "937d154e",
   "metadata": {
    "execution": {
     "iopub.execute_input": "2022-10-31T15:41:25.246092Z",
     "iopub.status.busy": "2022-10-31T15:41:25.245041Z",
     "iopub.status.idle": "2022-10-31T15:41:25.397384Z",
     "shell.execute_reply": "2022-10-31T15:41:25.396451Z"
    },
    "papermill": {
     "duration": 0.159729,
     "end_time": "2022-10-31T15:41:25.399870",
     "exception": false,
     "start_time": "2022-10-31T15:41:25.240141",
     "status": "completed"
    },
    "tags": []
   },
   "outputs": [],
   "source": [
    "\n",
    "import numpy as np\n",
    "import argparse\n",
    "import cv2\n",
    "import matplotlib.pyplot as plt\n",
    "from tensorflow.keras.models import model_from_json\n",
    "from tensorflow.python.keras.backend import set_session\n",
    "import os"
   ]
  },
  {
   "cell_type": "code",
   "execution_count": 3,
   "id": "39b57df9",
   "metadata": {
    "execution": {
     "iopub.execute_input": "2022-10-31T15:41:25.408815Z",
     "iopub.status.busy": "2022-10-31T15:41:25.408534Z",
     "iopub.status.idle": "2022-10-31T15:41:25.413746Z",
     "shell.execute_reply": "2022-10-31T15:41:25.412919Z"
    },
    "papermill": {
     "duration": 0.011724,
     "end_time": "2022-10-31T15:41:25.415522",
     "exception": false,
     "start_time": "2022-10-31T15:41:25.403798",
     "status": "completed"
    },
    "tags": []
   },
   "outputs": [],
   "source": [
    "#utils.datasets.fer.plot_example_images(plt).show()"
   ]
  },
  {
   "cell_type": "code",
   "execution_count": 4,
   "id": "303e2464",
   "metadata": {
    "execution": {
     "iopub.execute_input": "2022-10-31T15:41:25.424383Z",
     "iopub.status.busy": "2022-10-31T15:41:25.423650Z",
     "iopub.status.idle": "2022-10-31T15:41:25.836829Z",
     "shell.execute_reply": "2022-10-31T15:41:25.835878Z"
    },
    "papermill": {
     "duration": 0.419704,
     "end_time": "2022-10-31T15:41:25.838956",
     "exception": false,
     "start_time": "2022-10-31T15:41:25.419252",
     "status": "completed"
    },
    "tags": []
   },
   "outputs": [
    {
     "name": "stdout",
     "output_type": "stream",
     "text": [
      "38 button images\n",
      "128 title images\n",
      "95 input images\n",
      "97 paragraph images\n",
      "134 image images\n"
     ]
    },
    {
     "data": {
      "text/plain": [
       "<matplotlib.image.AxesImage at 0x7f817ac0ac10>"
      ]
     },
     "execution_count": 4,
     "metadata": {},
     "output_type": "execute_result"
    },
    {
     "data": {
      "image/png": "[encoded data removed]",
      "text/plain": [
       "<Figure size 432x288 with 1 Axes>"
      ]
     },
     "metadata": {
      "needs_background": "light"
     },
     "output_type": "display_data"
    }
   ],
   "source": [
    "mat=[]\n",
    "for expression in os.listdir(\"/kaggle/input/dataset3/dataset/train/\"):\n",
    "    print(str(len(os.listdir(\"/kaggle/input/dataset3/dataset/train/\" + expression))) + \" \" + expression + \" images\")\n",
    "    image=cv2.imread(\"/kaggle/input/dataset3/dataset/train/\"+ expression+\"/\"+os.listdir(\"/kaggle/input/dataset3/dataset/train/\" + expression)[0])\n",
    "    image=cv2.resize(image,(90,90))\n",
    "    mat.append(image)\n",
    "plt.imshow(cv2.hconcat(mat))"
   ]
  },
  {
   "cell_type": "code",
   "execution_count": 5,
   "id": "f8ad3828",
   "metadata": {
    "execution": {
     "iopub.execute_input": "2022-10-31T15:41:25.848908Z",
     "iopub.status.busy": "2022-10-31T15:41:25.848607Z",
     "iopub.status.idle": "2022-10-31T15:41:26.074035Z",
     "shell.execute_reply": "2022-10-31T15:41:26.073057Z"
    },
    "papermill": {
     "duration": 0.232983,
     "end_time": "2022-10-31T15:41:26.076288",
     "exception": false,
     "start_time": "2022-10-31T15:41:25.843305",
     "status": "completed"
    },
    "tags": []
   },
   "outputs": [
    {
     "name": "stdout",
     "output_type": "stream",
     "text": [
      "Found 492 images belonging to 5 classes.\n",
      "Found 197 images belonging to 5 classes.\n"
     ]
    }
   ],
   "source": [
    "img_size = 75\n",
    "batch_size = 16\n",
    "\n",
    "datagen_train = ImageDataGenerator(horizontal_flip=True)\n",
    "\n",
    "train_generator = datagen_train.flow_from_directory(\"/kaggle/input/dataset3/dataset/train/\",\n",
    "                                                    target_size=(img_size,img_size),\n",
    "                                                    color_mode=\"grayscale\",\n",
    "                                                    batch_size=batch_size,\n",
    "                                                    class_mode='categorical',\n",
    "                                                    shuffle=True)\n",
    "\n",
    "datagen_validation = ImageDataGenerator(horizontal_flip=True)\n",
    "validation_generator = datagen_validation.flow_from_directory(\"/kaggle/input/dataset3/dataset/test/\",\n",
    "                                                    target_size=(img_size,img_size),\n",
    "                                                    color_mode=\"grayscale\",\n",
    "                                                    batch_size=batch_size,\n",
    "                                                    class_mode='categorical',\n",
    "                                                    shuffle=True\n",
    "                                                             )"
   ]
  },
  {
   "cell_type": "code",
   "execution_count": 6,
   "id": "8e72cf45",
   "metadata": {
    "execution": {
     "iopub.execute_input": "2022-10-31T15:41:26.086669Z",
     "iopub.status.busy": "2022-10-31T15:41:26.086361Z",
     "iopub.status.idle": "2022-10-31T15:41:28.886256Z",
     "shell.execute_reply": "2022-10-31T15:41:28.884884Z"
    },
    "papermill": {
     "duration": 2.809477,
     "end_time": "2022-10-31T15:41:28.890672",
     "exception": false,
     "start_time": "2022-10-31T15:41:26.081195",
     "status": "completed"
    },
    "tags": []
   },
   "outputs": [
    {
     "name": "stderr",
     "output_type": "stream",
     "text": [
      "2022-10-31 15:41:26.177460: I tensorflow/stream_executor/cuda/cuda_gpu_executor.cc:937] successful NUMA node read from SysFS had negative value (-1), but there must be at least one NUMA node, so returning NUMA node zero\n",
      "2022-10-31 15:41:26.266444: I tensorflow/stream_executor/cuda/cuda_gpu_executor.cc:937] successful NUMA node read from SysFS had negative value (-1), but there must be at least one NUMA node, so returning NUMA node zero\n",
      "2022-10-31 15:41:26.267263: I tensorflow/stream_executor/cuda/cuda_gpu_executor.cc:937] successful NUMA node read from SysFS had negative value (-1), but there must be at least one NUMA node, so returning NUMA node zero\n"
     ]
    },
    {
     "name": "stdout",
     "output_type": "stream",
     "text": [
      "Model: \"sequential\"\n",
      "_________________________________________________________________\n",
      "Layer (type)                 Output Shape              Param #   \n",
      "=================================================================\n",
      "conv2d (Conv2D)              (None, 75, 75, 5625)      56250     \n",
      "_________________________________________________________________\n",
      "batch_normalization (BatchNo (None, 75, 75, 5625)      22500     \n",
      "_________________________________________________________________\n",
      "activation (Activation)      (None, 75, 75, 5625)      0         \n",
      "_________________________________________________________________\n",
      "max_pooling2d (MaxPooling2D) (None, 37, 37, 5625)      0         \n",
      "_________________________________________________________________\n",
      "dropout (Dropout)            (None, 37, 37, 5625)      0         \n",
      "_________________________________________________________________\n",
      "conv2d_1 (Conv2D)            (None, 37, 37, 32)        4500032   \n",
      "_________________________________________________________________\n",
      "batch_normalization_1 (Batch (None, 37, 37, 32)        128       \n",
      "_________________________________________________________________\n",
      "activation_1 (Activation)    (None, 37, 37, 32)        0         \n",
      "_________________________________________________________________\n",
      "max_pooling2d_1 (MaxPooling2 (None, 18, 18, 32)        0         \n",
      "_________________________________________________________________\n",
      "dropout_1 (Dropout)          (None, 18, 18, 32)        0         \n",
      "_________________________________________________________________\n",
      "flatten (Flatten)            (None, 10368)             0         \n",
      "_________________________________________________________________\n",
      "dense (Dense)                (None, 16)                165904    \n",
      "_________________________________________________________________\n",
      "batch_normalization_2 (Batch (None, 16)                64        \n",
      "_________________________________________________________________\n",
      "activation_2 (Activation)    (None, 16)                0         \n",
      "_________________________________________________________________\n",
      "dropout_2 (Dropout)          (None, 16)                0         \n",
      "_________________________________________________________________\n",
      "dense_1 (Dense)              (None, 5)                 85        \n",
      "=================================================================\n",
      "Total params: 4,744,963\n",
      "Trainable params: 4,733,617\n",
      "Non-trainable params: 11,346\n",
      "_________________________________________________________________\n"
     ]
    },
    {
     "name": "stderr",
     "output_type": "stream",
     "text": [
      "2022-10-31 15:41:26.269740: I tensorflow/core/platform/cpu_feature_guard.cc:142] This TensorFlow binary is optimized with oneAPI Deep Neural Network Library (oneDNN) to use the following CPU instructions in performance-critical operations:  AVX2 AVX512F FMA\n",
      "To enable them in other operations, rebuild TensorFlow with the appropriate compiler flags.\n",
      "2022-10-31 15:41:26.270086: I tensorflow/stream_executor/cuda/cuda_gpu_executor.cc:937] successful NUMA node read from SysFS had negative value (-1), but there must be at least one NUMA node, so returning NUMA node zero\n",
      "2022-10-31 15:41:26.271029: I tensorflow/stream_executor/cuda/cuda_gpu_executor.cc:937] successful NUMA node read from SysFS had negative value (-1), but there must be at least one NUMA node, so returning NUMA node zero\n",
      "2022-10-31 15:41:26.271914: I tensorflow/stream_executor/cuda/cuda_gpu_executor.cc:937] successful NUMA node read from SysFS had negative value (-1), but there must be at least one NUMA node, so returning NUMA node zero\n",
      "2022-10-31 15:41:28.400509: I tensorflow/stream_executor/cuda/cuda_gpu_executor.cc:937] successful NUMA node read from SysFS had negative value (-1), but there must be at least one NUMA node, so returning NUMA node zero\n",
      "2022-10-31 15:41:28.401381: I tensorflow/stream_executor/cuda/cuda_gpu_executor.cc:937] successful NUMA node read from SysFS had negative value (-1), but there must be at least one NUMA node, so returning NUMA node zero\n",
      "2022-10-31 15:41:28.402086: I tensorflow/stream_executor/cuda/cuda_gpu_executor.cc:937] successful NUMA node read from SysFS had negative value (-1), but there must be at least one NUMA node, so returning NUMA node zero\n",
      "2022-10-31 15:41:28.402687: I tensorflow/core/common_runtime/gpu/gpu_device.cc:1510] Created device /job:localhost/replica:0/task:0/device:GPU:0 with 15401 MB memory:  -> device: 0, name: Tesla P100-PCIE-16GB, pci bus id: 0000:00:04.0, compute capability: 6.0\n"
     ]
    }
   ],
   "source": [
    "# Initialising the CNN\n",
    "model = Sequential()\n",
    "\n",
    "# 1 - Convolution\n",
    "model.add(Conv2D(img_size**2,(3,3), padding='same', input_shape=(img_size, img_size,1)))\n",
    "model.add(BatchNormalization())\n",
    "model.add(Activation('relu'))\n",
    "model.add(MaxPooling2D(pool_size=(2, 2)))\n",
    "model.add(Dropout(0.25))\n",
    "\n",
    "# 2nd Convolution layer\n",
    "model.add(Conv2D(32,(5,5), padding='same'))\n",
    "model.add(BatchNormalization())\n",
    "model.add(Activation('relu'))\n",
    "model.add(MaxPooling2D(pool_size=(2, 2)))\n",
    "model.add(Dropout(0.25))\n",
    "\n",
    "\"\"\"\n",
    "# 3rd Convolution layer\n",
    "model.add(Conv2D(512,(3,3), padding='same'))\n",
    "model.add(BatchNormalization())\n",
    "model.add(Activation('relu'))\n",
    "model.add(MaxPooling2D(pool_size=(2, 2)))\n",
    "model.add(Dropout(0.25))\n",
    "\n",
    "# 4th Convolution layer\n",
    "model.add(Conv2D(1024,(3,3), padding='same'))\n",
    "model.add(BatchNormalization())\n",
    "model.add(Activation('relu'))\n",
    "model.add(MaxPooling2D(pool_size=(2, 2)))\n",
    "model.add(Dropout(0.25))\n",
    "\"\"\"\n",
    "# Flattening\n",
    "model.add(Flatten())\n",
    "\n",
    "# Fully connected layer 1st layer\n",
    "model.add(Dense(16))\n",
    "model.add(BatchNormalization())\n",
    "model.add(Activation('relu'))\n",
    "model.add(Dropout(0.05))\n",
    "\n",
    "\"\"\"# Fully connected layer 2nd layer\n",
    "model.add(Dense(512))\n",
    "model.add(BatchNormalization())\n",
    "model.add(Activation('relu'))\n",
    "model.add(Dropout(0.25))\"\"\"\n",
    "\n",
    "model.add(Dense(5, activation='softmax'))\n",
    "\n",
    "opt = Adam(learning_rate=0.00005)\n",
    "model.compile(optimizer=opt, loss='categorical_crossentropy', metrics=['accuracy',tf.keras.metrics.PrecisionAtRecall(0.7)])\n",
    "model.summary()"
   ]
  },
  {
   "cell_type": "code",
   "execution_count": 7,
   "id": "7464a55d",
   "metadata": {
    "collapsed": true,
    "execution": {
     "iopub.execute_input": "2022-10-31T15:41:28.902225Z",
     "iopub.status.busy": "2022-10-31T15:41:28.901937Z",
     "iopub.status.idle": "2022-10-31T16:28:14.372946Z",
     "shell.execute_reply": "2022-10-31T16:28:14.371923Z"
    },
    "jupyter": {
     "outputs_hidden": true
    },
    "papermill": {
     "duration": 2805.478973,
     "end_time": "2022-10-31T16:28:14.375414",
     "exception": false,
     "start_time": "2022-10-31T15:41:28.896441",
     "status": "completed"
    },
    "tags": []
   },
   "outputs": [
    {
     "data": {
      "image/png": "[encoded data removed]",
      "text/plain": [
       "<Figure size 864x864 with 4 Axes>"
      ]
     },
     "metadata": {
      "needs_background": "light"
     },
     "output_type": "display_data"
    },
    {
     "name": "stdout",
     "output_type": "stream",
     "text": [
      "accuracy\n",
      "\ttraining         \t (min:    0.502, max:    1.000, cur:    1.000)\n",
      "\tvalidation       \t (min:    0.359, max:    0.984, cur:    0.953)\n",
      "Loss\n",
      "\ttraining         \t (min:    0.017, max:    1.188, cur:    0.031)\n",
      "\tvalidation       \t (min:    0.101, max:    7.015, cur:    0.210)\n",
      "precision_at_recall\n",
      "\ttraining         \t (min:    0.442, max:    1.000, cur:    1.000)\n",
      "\tvalidation       \t (min:    0.200, max:    1.000, cur:    0.987)\n",
      "\n",
      "Epoch 00300: saving model to model_weights.h5\n"
     ]
    }
   ],
   "source": [
    "epochs = 300\n",
    "steps_per_epoch = train_generator.n//train_generator.batch_size\n",
    "validation_steps = validation_generator.n//validation_generator.batch_size\n",
    "\n",
    "reduce_lr = ReduceLROnPlateau(monitor='val_loss', factor=0.1,\n",
    "                              patience=2, min_lr=0.0001, mode='auto')\n",
    "checkpoint = ModelCheckpoint(\"model_weights.h5\", monitor='val_accuracy',\n",
    "                             save_weights_only=True, mode='max', verbose=1)\n",
    "callbacks = [PlotLossesKerasTF(), checkpoint, reduce_lr]\n",
    "\n",
    "history = model.fit(\n",
    "    x=train_generator,\n",
    "    steps_per_epoch=steps_per_epoch,\n",
    "    epochs=epochs,\n",
    "    validation_data = validation_generator,\n",
    "    validation_steps = validation_steps,\n",
    "    callbacks=callbacks\n",
    ")"
   ]
  },
  {
   "cell_type": "code",
   "execution_count": 8,
   "id": "a4fbfce1",
   "metadata": {
    "execution": {
     "iopub.execute_input": "2022-10-31T16:28:14.388661Z",
     "iopub.status.busy": "2022-10-31T16:28:14.387710Z",
     "iopub.status.idle": "2022-10-31T16:28:14.395738Z",
     "shell.execute_reply": "2022-10-31T16:28:14.394871Z"
    },
    "papermill": {
     "duration": 0.016501,
     "end_time": "2022-10-31T16:28:14.397744",
     "exception": false,
     "start_time": "2022-10-31T16:28:14.381243",
     "status": "completed"
    },
    "tags": []
   },
   "outputs": [],
   "source": [
    "model_json = model.to_json()\n",
    "with open(\"model.json\", \"w\") as json_file:\n",
    "    json_file.write(model_json)"
   ]
  },
  {
   "cell_type": "code",
   "execution_count": 9,
   "id": "e00d8469",
   "metadata": {
    "execution": {
     "iopub.execute_input": "2022-10-31T16:28:14.409487Z",
     "iopub.status.busy": "2022-10-31T16:28:14.409212Z",
     "iopub.status.idle": "2022-10-31T16:28:14.524713Z",
     "shell.execute_reply": "2022-10-31T16:28:14.523727Z"
    },
    "papermill": {
     "duration": 0.124011,
     "end_time": "2022-10-31T16:28:14.527059",
     "exception": false,
     "start_time": "2022-10-31T16:28:14.403048",
     "status": "completed"
    },
    "tags": []
   },
   "outputs": [],
   "source": [
    "class tagDetectionModel(object):\n",
    "\n",
    "    EMOTIONS_LIST = [\"button\",\"image\",\"input\",\"paragraph\",\"title\"]\n",
    "\n",
    "\n",
    "    def __init__(self, model_json_file, model_weights_file):\n",
    "        # load model from JSON file\n",
    "        with open(model_json_file, \"r\") as json_file:\n",
    "            loaded_model_json = json_file.read()\n",
    "            self.loaded_model = model_from_json(loaded_model_json)\n",
    "\n",
    "        # load weights into the new model\n",
    "        self.loaded_model.load_weights(model_weights_file)\n",
    "        #self.loaded_model.compile()\n",
    "        #self.loaded_model._make_predict_function()\n",
    "\n",
    "    def predict(self, img):\n",
    "        global session\n",
    "        set_session(session)\n",
    "        self.preds = self.loaded_model.predict(img)\n",
    "        return tagDetectionModel.EMOTIONS_LIST[np.argmax(self.preds)]\n",
    "\n",
    "\n",
    "labelNames = [\"button\",\"title\",\"input\",\"paragraph\",\"image\"]\n",
    "\n",
    "model = tagDetectionModel(\"model.json\", \"model_weights.h5\")"
   ]
  },
  {
   "cell_type": "code",
   "execution_count": 10,
   "id": "147f4c7f",
   "metadata": {
    "execution": {
     "iopub.execute_input": "2022-10-31T16:28:14.539768Z",
     "iopub.status.busy": "2022-10-31T16:28:14.539420Z",
     "iopub.status.idle": "2022-10-31T16:28:25.431316Z",
     "shell.execute_reply": "2022-10-31T16:28:25.430217Z"
    },
    "papermill": {
     "duration": 10.901246,
     "end_time": "2022-10-31T16:28:25.434134",
     "exception": false,
     "start_time": "2022-10-31T16:28:14.532888",
     "status": "completed"
    },
    "tags": []
   },
   "outputs": [
    {
     "name": "stderr",
     "output_type": "stream",
     "text": [
      "2022-10-31 16:28:14.545026: I tensorflow/stream_executor/cuda/cuda_gpu_executor.cc:937] successful NUMA node read from SysFS had negative value (-1), but there must be at least one NUMA node, so returning NUMA node zero\n",
      "2022-10-31 16:28:14.546368: I tensorflow/stream_executor/cuda/cuda_gpu_executor.cc:937] successful NUMA node read from SysFS had negative value (-1), but there must be at least one NUMA node, so returning NUMA node zero\n",
      "2022-10-31 16:28:14.547205: I tensorflow/stream_executor/cuda/cuda_gpu_executor.cc:937] successful NUMA node read from SysFS had negative value (-1), but there must be at least one NUMA node, so returning NUMA node zero\n",
      "2022-10-31 16:28:14.548144: I tensorflow/stream_executor/cuda/cuda_gpu_executor.cc:937] successful NUMA node read from SysFS had negative value (-1), but there must be at least one NUMA node, so returning NUMA node zero\n",
      "2022-10-31 16:28:14.548962: I tensorflow/stream_executor/cuda/cuda_gpu_executor.cc:937] successful NUMA node read from SysFS had negative value (-1), but there must be at least one NUMA node, so returning NUMA node zero\n",
      "2022-10-31 16:28:14.549461: I tensorflow/core/common_runtime/gpu/gpu_device.cc:1510] Created device /job:localhost/replica:0/task:0/device:GPU:0 with 15401 MB memory:  -> device: 0, name: Tesla P100-PCIE-16GB, pci bus id: 0000:00:04.0, compute capability: 6.0\n"
     ]
    },
    {
     "name": "stdout",
     "output_type": "stream",
     "text": [
      "['button', 'title', 'input', 'paragraph', 'image']\n",
      "button done\ttitle done\tinput done\tparagraph done\timage done\t\n",
      "\n",
      "\n",
      "button : 95.0\n",
      "title : 98.66666666666667\n",
      "input : 100.0\n",
      "paragraph : 73.33333333333333\n",
      "image : 100.0\n"
     ]
    }
   ],
   "source": [
    "config = tf.compat.v1.ConfigProto()\n",
    "config.gpu_options.per_process_gpu_memory_fraction = 0.15\n",
    "session = tf.compat.v1.Session(config=config)\n",
    "set_session(session)\n",
    "\n",
    "\n",
    "dirs=os.listdir(\"/kaggle/input/dataset3/dataset/test/\")\n",
    "accuracy={}\n",
    "print(dirs)\n",
    "outs=[]\n",
    "for i in dirs:\n",
    "    ims=os.listdir(\"/kaggle/input/dataset3/dataset/test/\"+i)\n",
    "    count=0\n",
    "    \n",
    "    for j in ims:\n",
    "        image = cv2.imread(\"/kaggle/input/dataset3/dataset/test/\"+i+\"/\"+j)\n",
    "        gray = cv2.cvtColor(image, cv2.COLOR_BGR2GRAY)\n",
    "        image=cv2.resize(gray, (75, 75))\n",
    "        pred=model.predict(image[np.newaxis, :, :, np.newaxis])\n",
    "        outs.append((pred,i))\n",
    "        if pred==i:\n",
    "            count+=1\n",
    "    print(i,\"done\",end=\"\\t\")\n",
    "    accuracy[i]=(count/len(ims))*100\n",
    "\n",
    "print(\"\\n\\n\")\n",
    "for i in accuracy:\n",
    "    print(i,\":\",accuracy[i],)"
   ]
  },
  {
   "cell_type": "code",
   "execution_count": 11,
   "id": "554dc3d5",
   "metadata": {
    "execution": {
     "iopub.execute_input": "2022-10-31T16:28:25.448665Z",
     "iopub.status.busy": "2022-10-31T16:28:25.447811Z",
     "iopub.status.idle": "2022-10-31T16:28:25.458163Z",
     "shell.execute_reply": "2022-10-31T16:28:25.455688Z"
    },
    "papermill": {
     "duration": 0.019462,
     "end_time": "2022-10-31T16:28:25.460333",
     "exception": false,
     "start_time": "2022-10-31T16:28:25.440871",
     "status": "completed"
    },
    "tags": []
   },
   "outputs": [
    {
     "name": "stdout",
     "output_type": "stream",
     "text": [
      "('button', 'button')\n",
      "('button', 'button')\n",
      "('button', 'button')\n",
      "('button', 'button')\n",
      "('button', 'button')\n",
      "('input', 'button')\n",
      "('button', 'button')\n",
      "('button', 'button')\n",
      "('button', 'button')\n",
      "('button', 'button')\n",
      "('button', 'button')\n",
      "('button', 'button')\n",
      "('button', 'button')\n",
      "('button', 'button')\n",
      "('button', 'button')\n",
      "('button', 'button')\n",
      "('button', 'button')\n",
      "('button', 'button')\n",
      "('button', 'button')\n",
      "('button', 'button')\n",
      "('title', 'title')\n",
      "('title', 'title')\n",
      "('title', 'title')\n",
      "('title', 'title')\n",
      "('title', 'title')\n",
      "('title', 'title')\n",
      "('title', 'title')\n",
      "('title', 'title')\n",
      "('title', 'title')\n",
      "('title', 'title')\n",
      "('title', 'title')\n",
      "('title', 'title')\n",
      "('title', 'title')\n",
      "('title', 'title')\n",
      "('title', 'title')\n",
      "('title', 'title')\n",
      "('title', 'title')\n",
      "('title', 'title')\n",
      "('title', 'title')\n",
      "('title', 'title')\n",
      "('title', 'title')\n",
      "('title', 'title')\n",
      "('title', 'title')\n",
      "('title', 'title')\n",
      "('title', 'title')\n",
      "('title', 'title')\n",
      "('title', 'title')\n",
      "('title', 'title')\n",
      "('title', 'title')\n",
      "('title', 'title')\n",
      "('title', 'title')\n",
      "('title', 'title')\n",
      "('title', 'title')\n",
      "('title', 'title')\n",
      "('title', 'title')\n",
      "('title', 'title')\n",
      "('title', 'title')\n",
      "('title', 'title')\n",
      "('title', 'title')\n",
      "('title', 'title')\n",
      "('title', 'title')\n",
      "('title', 'title')\n",
      "('title', 'title')\n",
      "('title', 'title')\n",
      "('title', 'title')\n",
      "('title', 'title')\n",
      "('title', 'title')\n",
      "('title', 'title')\n",
      "('title', 'title')\n",
      "('title', 'title')\n",
      "('title', 'title')\n",
      "('title', 'title')\n",
      "('title', 'title')\n",
      "('title', 'title')\n",
      "('title', 'title')\n",
      "('title', 'title')\n",
      "('title', 'title')\n",
      "('title', 'title')\n",
      "('title', 'title')\n",
      "('title', 'title')\n",
      "('title', 'title')\n",
      "('title', 'title')\n",
      "('title', 'title')\n",
      "('title', 'title')\n",
      "('paragraph', 'title')\n",
      "('title', 'title')\n",
      "('title', 'title')\n",
      "('title', 'title')\n",
      "('title', 'title')\n",
      "('title', 'title')\n",
      "('title', 'title')\n",
      "('title', 'title')\n",
      "('title', 'title')\n",
      "('title', 'title')\n",
      "('title', 'title')\n",
      "('input', 'input')\n",
      "('input', 'input')\n",
      "('input', 'input')\n",
      "('input', 'input')\n",
      "('input', 'input')\n",
      "('input', 'input')\n",
      "('input', 'input')\n",
      "('input', 'input')\n",
      "('input', 'input')\n",
      "('input', 'input')\n",
      "('input', 'input')\n",
      "('input', 'input')\n",
      "('input', 'input')\n",
      "('input', 'input')\n",
      "('input', 'input')\n",
      "('input', 'input')\n",
      "('input', 'input')\n",
      "('input', 'input')\n",
      "('input', 'input')\n",
      "('input', 'input')\n",
      "('input', 'input')\n",
      "('input', 'input')\n",
      "('input', 'input')\n",
      "('input', 'input')\n",
      "('input', 'input')\n",
      "('input', 'input')\n",
      "('input', 'input')\n",
      "('input', 'input')\n",
      "('input', 'input')\n",
      "('input', 'input')\n",
      "('input', 'input')\n",
      "('input', 'input')\n",
      "('input', 'input')\n",
      "('input', 'input')\n",
      "('input', 'input')\n",
      "('input', 'input')\n",
      "('input', 'input')\n",
      "('paragraph', 'paragraph')\n",
      "('paragraph', 'paragraph')\n",
      "('paragraph', 'paragraph')\n",
      "('paragraph', 'paragraph')\n",
      "('paragraph', 'paragraph')\n",
      "('paragraph', 'paragraph')\n",
      "('paragraph', 'paragraph')\n",
      "('paragraph', 'paragraph')\n",
      "('title', 'paragraph')\n",
      "('title', 'paragraph')\n",
      "('paragraph', 'paragraph')\n",
      "('paragraph', 'paragraph')\n",
      "('title', 'paragraph')\n",
      "('title', 'paragraph')\n",
      "('paragraph', 'paragraph')\n",
      "('title', 'paragraph')\n",
      "('title', 'paragraph')\n",
      "('paragraph', 'paragraph')\n",
      "('title', 'paragraph')\n",
      "('paragraph', 'paragraph')\n",
      "('paragraph', 'paragraph')\n",
      "('paragraph', 'paragraph')\n",
      "('paragraph', 'paragraph')\n",
      "('title', 'paragraph')\n",
      "('paragraph', 'paragraph')\n",
      "('paragraph', 'paragraph')\n",
      "('paragraph', 'paragraph')\n",
      "('paragraph', 'paragraph')\n",
      "('paragraph', 'paragraph')\n",
      "('paragraph', 'paragraph')\n",
      "('image', 'image')\n",
      "('image', 'image')\n",
      "('image', 'image')\n",
      "('image', 'image')\n",
      "('image', 'image')\n",
      "('image', 'image')\n",
      "('image', 'image')\n",
      "('image', 'image')\n",
      "('image', 'image')\n",
      "('image', 'image')\n",
      "('image', 'image')\n",
      "('image', 'image')\n",
      "('image', 'image')\n",
      "('image', 'image')\n",
      "('image', 'image')\n",
      "('image', 'image')\n",
      "('image', 'image')\n",
      "('image', 'image')\n",
      "('image', 'image')\n",
      "('image', 'image')\n",
      "('image', 'image')\n",
      "('image', 'image')\n",
      "('image', 'image')\n",
      "('image', 'image')\n",
      "('image', 'image')\n",
      "('image', 'image')\n",
      "('image', 'image')\n",
      "('image', 'image')\n",
      "('image', 'image')\n",
      "('image', 'image')\n",
      "('image', 'image')\n",
      "('image', 'image')\n",
      "('image', 'image')\n",
      "('image', 'image')\n",
      "('image', 'image')\n"
     ]
    }
   ],
   "source": [
    "for i in outs:\n",
    "    print(i)"
   ]
  },
  {
   "cell_type": "code",
   "execution_count": 12,
   "id": "218e4192",
   "metadata": {
    "execution": {
     "iopub.execute_input": "2022-10-31T16:28:25.473269Z",
     "iopub.status.busy": "2022-10-31T16:28:25.472804Z",
     "iopub.status.idle": "2022-10-31T16:28:25.478556Z",
     "shell.execute_reply": "2022-10-31T16:28:25.477629Z"
    },
    "papermill": {
     "duration": 0.014478,
     "end_time": "2022-10-31T16:28:25.480606",
     "exception": false,
     "start_time": "2022-10-31T16:28:25.466128",
     "status": "completed"
    },
    "tags": []
   },
   "outputs": [
    {
     "data": {
      "text/plain": [
       "197"
      ]
     },
     "execution_count": 12,
     "metadata": {},
     "output_type": "execute_result"
    }
   ],
   "source": [
    "len(outs)"
   ]
  },
  {
   "cell_type": "code",
   "execution_count": null,
   "id": "1f7d8aa7",
   "metadata": {
    "papermill": {
     "duration": 0.005703,
     "end_time": "2022-10-31T16:28:25.492162",
     "exception": false,
     "start_time": "2022-10-31T16:28:25.486459",
     "status": "completed"
    },
    "tags": []
   },
   "outputs": [],
   "source": []
  }
 ],
 "metadata": {
  "kernelspec": {
   "display_name": "Python 3 (ipykernel)",
   "language": "python",
   "name": "python3"
  },
  "language_info": {
   "codemirror_mode": {
    "name": "ipython",
    "version": 3
   },
   "file_extension": ".py",
   "mimetype": "text/x-python",
   "name": "python",
   "nbconvert_exporter": "python",
   "pygments_lexer": "ipython3",
   "version": "3.9.11"
  },
  "papermill": {
   "default_parameters": {},
   "duration": 2848.512803,
   "end_time": "2022-10-31T16:28:28.737952",
   "environment_variables": {},
   "exception": null,
   "input_path": "__notebook__.ipynb",
   "output_path": "__notebook__.ipynb",
   "parameters": {},
   "start_time": "2022-10-31T15:41:00.225149",
   "version": "2.3.4"
  }
 },
 "nbformat": 4,
 "nbformat_minor": 5
}
